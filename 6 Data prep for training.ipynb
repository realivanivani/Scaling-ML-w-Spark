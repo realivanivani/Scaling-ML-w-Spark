{
 "cells": [
  {
   "cell_type": "markdown",
   "metadata": {},
   "source": [
    "# Data prep before training⭐\n",
    "\n",
    "This is essential part of week 3. run this before training your ml.\n",
    "\n"
   ]
  },
  {
   "cell_type": "code",
   "execution_count": 1,
   "metadata": {},
   "outputs": [],
   "source": [
    "from pyspark.sql import SparkSession \n"
   ]
  },
  {
   "cell_type": "code",
   "execution_count": 2,
   "metadata": {},
   "outputs": [],
   "source": [
    "spark = SparkSession.builder \\\n",
    "    .master('local[*]') \\\n",
    "    .appName(\"Intro\") \\\n",
    "    .getOrCreate()"
   ]
  },
  {
   "cell_type": "markdown",
   "metadata": {},
   "source": [
    "## Exercise 1: Load the data:"
   ]
  },
  {
   "cell_type": "code",
   "execution_count": 3,
   "metadata": {},
   "outputs": [],
   "source": [
    "df = spark.read.csv ('../datasets/bot_data.csv', header= True) "
   ]
  },
  {
   "cell_type": "code",
   "execution_count": 4,
   "metadata": {},
   "outputs": [],
   "source": [
    "from pyspark.sql.types import IntegerType\n",
    "\n",
    "df = df.withColumn(\"followers_count\", df[\"followers_count\"].cast(IntegerType()))"
   ]
  },
  {
   "cell_type": "code",
   "execution_count": 5,
   "metadata": {},
   "outputs": [],
   "source": [
    "from pyspark.sql.types import IntegerType, BooleanType\n",
    "\n",
    "df = df.withColumn(\"friends_count\", df[\"friends_count\"].cast(IntegerType()))\n",
    "df = df.withColumn(\"listed_count\", df[\"listed_count\"].cast(IntegerType()))\n",
    "df = df.withColumn(\"favourites_count\", df[\"favourites_count\"].cast(IntegerType()))\n",
    "df = df.withColumn(\"statuses_count\", df[\"statuses_count\"].cast(IntegerType()))\n",
    "df = df.withColumn(\"verified\", df[\"verified\"].cast(BooleanType()))\n",
    "df = df.withColumn(\"default_profile\", df[\"default_profile\"].cast(BooleanType()))\n",
    "df = df.withColumn(\"has_extended_profile\", df[\"has_extended_profile\"].cast(BooleanType()))\n",
    "df = df.withColumn(\"default_profile_image\", df[\"default_profile_image\"].cast(BooleanType()))"
   ]
  },
  {
   "cell_type": "code",
   "execution_count": 6,
   "metadata": {},
   "outputs": [],
   "source": [
    "from pyspark.sql.functions import when\n",
    "df = df.withColumn('id_str',when(df['id'].isNotNull(),df['id']).otherwise(df['id_str']))"
   ]
  },
  {
   "cell_type": "code",
   "execution_count": 7,
   "metadata": {},
   "outputs": [],
   "source": [
    "df = df.drop('id')"
   ]
  },
  {
   "cell_type": "code",
   "execution_count": 8,
   "metadata": {},
   "outputs": [],
   "source": [
    "df = df.drop('default_profile_image','has_extended_profile','url','created_at','lang')"
   ]
  },
  {
   "cell_type": "code",
   "execution_count": 9,
   "metadata": {},
   "outputs": [],
   "source": [
    "df = df.dropDuplicates()\n"
   ]
  },
  {
   "cell_type": "code",
   "execution_count": 10,
   "metadata": {},
   "outputs": [],
   "source": [
    "df = df.withColumn('location',when(df['location'].isNull(),0).otherwise(1))\n",
    "df = df.withColumn('status',when(df['status'].isNull(),0).otherwise(1))\n",
    "df = df.withColumn('screen_name',when(df['screen_name'].isNull(),0).otherwise(1))\n",
    "df = df.withColumn('name',when(df['name'].isNull(),0).otherwise(1))"
   ]
  },
  {
   "cell_type": "markdown",
   "metadata": {},
   "source": [
    "---"
   ]
  },
  {
   "cell_type": "code",
   "execution_count": 11,
   "metadata": {},
   "outputs": [],
   "source": [
    "df = df.withColumn('bot',df['bot'].cast(IntegerType()))\n"
   ]
  },
  {
   "cell_type": "code",
   "execution_count": 12,
   "metadata": {},
   "outputs": [],
   "source": [
    "df = df.withColumn('bot',when(df['bot'].isNull(),0).otherwise(df['bot']))\n"
   ]
  },
  {
   "cell_type": "markdown",
   "metadata": {},
   "source": [
    "Do the same with the other booelan fields:\n",
    "    Run next commends:"
   ]
  },
  {
   "cell_type": "code",
   "execution_count": 13,
   "metadata": {},
   "outputs": [],
   "source": [
    "df = df.withColumn('verified',df['verified'].cast(IntegerType()))\n",
    "df = df.withColumn('default_profile',df['default_profile'].cast(IntegerType()))\n",
    "\n",
    "df = df.withColumn('verified',when(df['verified'].isNull(),0).otherwise(df['verified']))\n",
    "df = df.withColumn('default_profile',when(df['default_profile'].isNull(),0).otherwise(df['default_profile']))\n"
   ]
  },
  {
   "cell_type": "markdown",
   "metadata": {},
   "source": [
    "How many bots and none bots we have in the data?\n",
    "\n",
    "Run the next command to check out! "
   ]
  },
  {
   "cell_type": "code",
   "execution_count": 14,
   "metadata": {},
   "outputs": [],
   "source": [
    "df = df.drop('id_str')\n",
    "\n"
   ]
  },
  {
   "cell_type": "code",
   "execution_count": 15,
   "metadata": {},
   "outputs": [
    {
     "name": "stdout",
     "output_type": "stream",
     "text": [
      "root\n",
      " |-- screen_name: integer (nullable = false)\n",
      " |-- location: integer (nullable = false)\n",
      " |-- description: string (nullable = true)\n",
      " |-- followers_count: integer (nullable = true)\n",
      " |-- friends_count: integer (nullable = true)\n",
      " |-- listed_count: integer (nullable = true)\n",
      " |-- favourites_count: integer (nullable = true)\n",
      " |-- verified: integer (nullable = true)\n",
      " |-- statuses_count: integer (nullable = true)\n",
      " |-- status: integer (nullable = false)\n",
      " |-- default_profile: integer (nullable = true)\n",
      " |-- name: integer (nullable = false)\n",
      " |-- bot: integer (nullable = true)\n",
      "\n"
     ]
    }
   ],
   "source": [
    "df.printSchema()"
   ]
  },
  {
   "cell_type": "code",
   "execution_count": 16,
   "metadata": {},
   "outputs": [],
   "source": [
    "# in order to avoid errors, drop rows with null/None or N/A for description\n",
    "df = df.dropna(subset=['description'])"
   ]
  },
  {
   "cell_type": "code",
   "execution_count": 17,
   "metadata": {},
   "outputs": [],
   "source": [
    "# Run the next commend, we will need it for chapter number 4\n",
    "df_desc = df.selectExpr('description','bot as label')\n",
    "df_desc.write.mode('overwrite').parquet(\"../datasets/train_data_only_description\")\n"
   ]
  },
  {
   "cell_type": "markdown",
   "metadata": {},
   "source": [
    "---"
   ]
  },
  {
   "cell_type": "code",
   "execution_count": 18,
   "metadata": {},
   "outputs": [
    {
     "data": {
      "text/plain": [
       "['lola', 'csds', 'b']"
      ]
     },
     "execution_count": 18,
     "metadata": {},
     "output_type": "execute_result"
    }
   ],
   "source": [
    "# check out this python code. Run it. What did you get?\n",
    "# will this work for the task?\n",
    "# how do you combine it with UDF?\n",
    "\n",
    "def split_and_set(some_str):\n",
    "    if isinstance(some_str, str):\n",
    "        some_str = ''.join(c for c in some_str if c not in \"[](){}<>,'/.\")\n",
    "        return list(set(some_str.split(' ')))\n",
    "    return some_str\n",
    "\n",
    "some_str = '[csds b lol,a]'\n",
    "\n",
    "split_and_set(split_and_set(some_str))"
   ]
  },
  {
   "cell_type": "code",
   "execution_count": 19,
   "metadata": {},
   "outputs": [],
   "source": [
    "from pyspark.sql.types import ArrayType, StringType\n",
    "from pyspark.sql.functions import udf\n",
    "\n",
    "def split_and_set(some_str):\n",
    "    if isinstance(some_str, str):\n",
    "        some_str = ''.join(c for c in some_str if c not in \"[](){}<>,'/.\")\n",
    "        return list(set(some_str.split(' ')))\n",
    "    return some_str\n",
    "\n",
    "list_udf = udf(lambda y: split_and_set(y), ArrayType(StringType()))\n",
    "\n",
    "df = df.withColumn('description', list_udf(df['description']))"
   ]
  },
  {
   "cell_type": "code",
   "execution_count": 20,
   "metadata": {},
   "outputs": [
    {
     "name": "stdout",
     "output_type": "stream",
     "text": [
      "root\n",
      " |-- screen_name: integer (nullable = false)\n",
      " |-- location: integer (nullable = false)\n",
      " |-- description: array (nullable = true)\n",
      " |    |-- element: string (containsNull = true)\n",
      " |-- followers_count: integer (nullable = true)\n",
      " |-- friends_count: integer (nullable = true)\n",
      " |-- listed_count: integer (nullable = true)\n",
      " |-- favourites_count: integer (nullable = true)\n",
      " |-- verified: integer (nullable = true)\n",
      " |-- statuses_count: integer (nullable = true)\n",
      " |-- status: integer (nullable = false)\n",
      " |-- default_profile: integer (nullable = true)\n",
      " |-- name: integer (nullable = false)\n",
      " |-- bot: integer (nullable = true)\n",
      "\n"
     ]
    }
   ],
   "source": [
    "df.printSchema()"
   ]
  },
  {
   "cell_type": "code",
   "execution_count": 21,
   "metadata": {},
   "outputs": [],
   "source": [
    "# happy with the results? write to file!\n",
    "# run this command\n",
    "df.write.mode('overwrite').parquet(\"../datasets/final_train_data\")"
   ]
  },
  {
   "cell_type": "code",
   "execution_count": 22,
   "metadata": {},
   "outputs": [],
   "source": [
    "(training_data, test_data) = df.randomSplit([0.7, 0.3])"
   ]
  },
  {
   "cell_type": "code",
   "execution_count": 23,
   "metadata": {},
   "outputs": [],
   "source": [
    "test_data.write.mode('overwrite').parquet(\"../datasets/classified_test_data\")"
   ]
  },
  {
   "cell_type": "code",
   "execution_count": 24,
   "metadata": {},
   "outputs": [],
   "source": [
    "training_data.write.mode('overwrite').parquet(\"../datasets/classified_train_data\")"
   ]
  }
 ],
 "metadata": {
  "kernelspec": {
   "display_name": "Python 3",
   "language": "python",
   "name": "python3"
  },
  "language_info": {
   "codemirror_mode": {
    "name": "ipython",
    "version": 3
   },
   "file_extension": ".py",
   "mimetype": "text/x-python",
   "name": "python",
   "nbconvert_exporter": "python",
   "pygments_lexer": "ipython3",
   "version": "3.9.4"
  }
 },
 "nbformat": 4,
 "nbformat_minor": 4
}